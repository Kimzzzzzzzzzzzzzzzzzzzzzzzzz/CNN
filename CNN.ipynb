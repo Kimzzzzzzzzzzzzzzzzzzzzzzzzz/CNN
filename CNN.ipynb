{
 "cells": [
  {
   "cell_type": "code",
   "execution_count": 5,
   "id": "b22673f5-e060-4c0d-a0b9-b875f03f6107",
   "metadata": {},
   "outputs": [
    {
     "name": "stdout",
     "output_type": "stream",
     "text": [
      "Epoch 1/5\n",
      "1688/1688 [==============================] - 26s 14ms/step - loss: 0.0196 - accuracy: 0.9936 - val_loss: 0.0063 - val_accuracy: 0.9980\n",
      "Epoch 2/5\n",
      "1688/1688 [==============================] - 23s 14ms/step - loss: 0.0072 - accuracy: 0.9978 - val_loss: 0.0066 - val_accuracy: 0.9968\n",
      "Epoch 3/5\n",
      "1688/1688 [==============================] - 23s 14ms/step - loss: 0.0050 - accuracy: 0.9983 - val_loss: 0.0050 - val_accuracy: 0.9978\n",
      "Epoch 4/5\n",
      "1688/1688 [==============================] - 25s 15ms/step - loss: 0.0040 - accuracy: 0.9985 - val_loss: 0.0041 - val_accuracy: 0.9982\n",
      "Epoch 5/5\n",
      "1688/1688 [==============================] - 24s 14ms/step - loss: 0.0030 - accuracy: 0.9990 - val_loss: 0.0056 - val_accuracy: 0.9982\n",
      "313/313 [==============================] - 2s 5ms/step - loss: 0.0059 - accuracy: 0.9983\n",
      "Test loss: 0.005886252038180828 / Test accuracy: 0.9983000159263611\n"
     ]
    }
   ],
   "source": [
    "import tensorflow as tf\n",
    "from tensorflow.keras.models import Sequential\n",
    "from tensorflow.keras.layers import Dense, Dropout, Activation, Flatten, Conv2D, MaxPooling2D\n",
    "from tensorflow.keras.datasets import mnist\n",
    "\n",
    "# Load the dataset\n",
    "(X_train, y_train), (X_test, y_test) = mnist.load_data()\n",
    "\n",
    "# Preprocess the data\n",
    "X_train = X_train.reshape(-1, 28, 28, 1).astype('float32') / 255.0\n",
    "X_test = X_test.reshape(-1, 28, 28, 1).astype('float32') / 255.0\n",
    "\n",
    "# Convert labels to binary class matrices (for binary classification example)\n",
    "y_train = (y_train == 0).astype(int)  # Change this to any class you want to classify\n",
    "y_test = (y_test == 0).astype(int)\n",
    "\n",
    "model = Sequential()\n",
    "model.add(Conv2D(64, (3,3), input_shape=X_train.shape[1:]))\n",
    "model.add(Activation(\"relu\"))\n",
    "model.add(MaxPooling2D(pool_size=(2,2)))\n",
    "\n",
    "model.add(Conv2D(64, (3,3)))\n",
    "model.add(Activation(\"relu\"))\n",
    "model.add(MaxPooling2D(pool_size=(2,2)))\n",
    "\n",
    "model.add(Flatten())\n",
    "model.add(Dense(64))\n",
    "\n",
    "model.add(Dense(1))\n",
    "model.add(Activation('sigmoid'))\n",
    "\n",
    "model.compile(loss=\"binary_crossentropy\",\n",
    "              optimizer=\"adam\",\n",
    "              metrics=['accuracy'])\n",
    "\n",
    "model.fit(X_train, y_train, batch_size=32, epochs=5, validation_split=0.1)\n",
    "\n",
    "# Evaluate the model\n",
    "score = model.evaluate(X_test, y_test)\n",
    "print(f'Test loss: {score[0]} / Test accuracy: {score[1]}')\n"
   ]
  },
  {
   "cell_type": "code",
   "execution_count": null,
   "id": "f4387d81-97de-4e8e-bedf-37e733b47508",
   "metadata": {},
   "outputs": [],
   "source": []
  }
 ],
 "metadata": {
  "kernelspec": {
   "display_name": "Python 3 (ipykernel)",
   "language": "python",
   "name": "python3"
  },
  "language_info": {
   "codemirror_mode": {
    "name": "ipython",
    "version": 3
   },
   "file_extension": ".py",
   "mimetype": "text/x-python",
   "name": "python",
   "nbconvert_exporter": "python",
   "pygments_lexer": "ipython3",
   "version": "3.9.18"
  }
 },
 "nbformat": 4,
 "nbformat_minor": 5
}
